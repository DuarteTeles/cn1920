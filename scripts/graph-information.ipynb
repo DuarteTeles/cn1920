{
 "cells": [
  {
   "cell_type": "code",
   "execution_count": 1,
   "metadata": {
    "ExecuteTime": {
     "end_time": "2019-10-19T16:26:45.478883Z",
     "start_time": "2019-10-19T16:26:44.635794Z"
    }
   },
   "outputs": [],
   "source": [
    "import networkx as nx"
   ]
  },
  {
   "cell_type": "code",
   "execution_count": 4,
   "metadata": {
    "ExecuteTime": {
     "end_time": "2019-10-19T17:56:26.123752Z",
     "start_time": "2019-10-19T16:27:00.997165Z"
    }
   },
   "outputs": [],
   "source": [
    "# Takes approximately 90 minutes to fully load.\n",
    "filename = \"arxiv.networkx_compatible\"\n",
    "graph = nx.read_adjlist(filename, delimiter=\"++\", create_using=nx.MultiGraph)"
   ]
  },
  {
   "cell_type": "code",
   "execution_count": 7,
   "metadata": {
    "ExecuteTime": {
     "end_time": "2019-10-19T18:01:11.888643Z",
     "start_time": "2019-10-19T17:59:56.801980Z"
    },
    "scrolled": false
   },
   "outputs": [
    {
     "name": "stdout",
     "output_type": "stream",
     "text": [
      "Name: \n",
      "Type: MultiGraph\n",
      "Number of nodes: 899580\n",
      "Number of edges: 636479687\n",
      "Average degree: 1415.0597\n",
      "0.0015730243431891302\n"
     ]
    }
   ],
   "source": [
    "print(nx.info(graph))\n",
    "print(\"Graph density:\", nx.density(graph))"
   ]
  },
  {
   "cell_type": "code",
   "execution_count": null,
   "metadata": {},
   "outputs": [],
   "source": [
    "degree_freqs = nx.degree_histogram(graph)\n",
    "output_file = open(\"degree-dist.data\", 'w')\n",
    "for freq in degree_freqs:\n",
    "    output_file.write(str(freq) + '\\n')\n",
    "output_file.close()"
   ]
  }
 ],
 "metadata": {
  "kernelspec": {
   "display_name": "tf-enabled",
   "language": "python",
   "name": "tf-enabled"
  },
  "language_info": {
   "codemirror_mode": {
    "name": "ipython",
    "version": 3
   },
   "file_extension": ".py",
   "mimetype": "text/x-python",
   "name": "python",
   "nbconvert_exporter": "python",
   "pygments_lexer": "ipython3",
   "version": "3.6.5"
  },
  "varInspector": {
   "cols": {
    "lenName": 16,
    "lenType": 16,
    "lenVar": 40
   },
   "kernels_config": {
    "python": {
     "delete_cmd_postfix": "",
     "delete_cmd_prefix": "del ",
     "library": "var_list.py",
     "varRefreshCmd": "print(var_dic_list())"
    },
    "r": {
     "delete_cmd_postfix": ") ",
     "delete_cmd_prefix": "rm(",
     "library": "var_list.r",
     "varRefreshCmd": "cat(var_dic_list()) "
    }
   },
   "position": {
    "height": "274.844px",
    "left": "1487px",
    "right": "27px",
    "top": "299px",
    "width": "389px"
   },
   "types_to_exclude": [
    "module",
    "function",
    "builtin_function_or_method",
    "instance",
    "_Feature"
   ],
   "window_display": true
  }
 },
 "nbformat": 4,
 "nbformat_minor": 2
}
